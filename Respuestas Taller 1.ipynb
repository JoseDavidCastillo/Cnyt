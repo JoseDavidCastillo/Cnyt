{
 "cells": [
  {
   "cell_type": "markdown",
   "id": "b3fe896b",
   "metadata": {},
   "source": [
    "## Jose David Castillo"
   ]
  },
  {
   "cell_type": "markdown",
   "id": "d18f7f42-7cef-44a8-a29f-d4c89dcb54e5",
   "metadata": {},
   "source": [
    "## ### Exercise 1:\n",
    "Given two complex vectors \n",
    "$$ v1 = \\begin{bmatrix} 1 + 2i \\\\ 3 - i \\end{bmatrix} $$ \n",
    "and \n",
    "$$ v2 = \\begin{bmatrix} 2 - i \\\\ 4 + 2i \\end{bmatrix} $$, \n",
    "find their sum\n"
   ]
  },
  {
   "cell_type": "code",
   "execution_count": 13,
   "id": "fca2767a-0494-477d-9b29-4b937ac60afc",
   "metadata": {},
   "outputs": [
    {
     "name": "stdout",
     "output_type": "stream",
     "text": [
      "[[3.+1.j]\n",
      " [7.+1.j]]\n"
     ]
    }
   ],
   "source": [
    "import numpy as np\n",
    "v1 = np.array([[1+2j], [3-1j]])\n",
    "v2 = np.array([[2-1j], [4+2j]])\n",
    "# Sum\n",
    "sum_v = v1 + v2\n",
    "print(sum_v)"
   ]
  },
  {
   "cell_type": "markdown",
   "id": "647e4e2b-a688-47d7-913d-51b3e56d45ed",
   "metadata": {},
   "source": [
    "### Exercise 2: Negation of a Complex Vector\n",
    "Given a complex vector \n",
    "$$ v = \\begin{bmatrix} 2 + 3i \\\\ 1 - 2i \\end{bmatrix} $$, \n",
    "find its negation."
   ]
  },
  {
   "cell_type": "code",
   "execution_count": 7,
   "id": "b4c92cfa-dbcb-4c4e-901b-cd30e1ec0fe0",
   "metadata": {},
   "outputs": [
    {
     "name": "stdout",
     "output_type": "stream",
     "text": [
      "[[-2.-3.j]\n",
      " [-1.+2.j]]\n"
     ]
    }
   ],
   "source": [
    "import numpy as np\n",
    "v1 = np.array([[2+3j], [1-2j]])\n",
    "neg_v1 = -v1\n",
    "print(neg_v1)"
   ]
  },
  {
   "cell_type": "markdown",
   "id": "5c476c34-3c11-4f4f-aa45-9c69e5dd838e",
   "metadata": {},
   "source": [
    "### Exercise 3: Multiplication of a Complex Vector by a Scalar\n",
    "Multiply the complex vector \n",
    "$$ v = \\begin{bmatrix} 1 - i \\\\ 2 + 2i \\end{bmatrix} $$ \n",
    "by the complex scalar $$ 3 + i $$."
   ]
  },
  {
   "cell_type": "code",
   "execution_count": 9,
   "id": "3365c948-32b8-488e-b573-8cfa3adad1fe",
   "metadata": {},
   "outputs": [
    {
     "name": "stdout",
     "output_type": "stream",
     "text": [
      "[[4.-2.j]\n",
      " [4.+8.j]]\n"
     ]
    }
   ],
   "source": [
    "import numpy as np\n",
    "v1 = np.array([[1-1j], [2+2j]])\n",
    "scalar = 3 + 1j\n",
    "mult_v1 = v1 * scalar\n",
    "print(mult_v1)"
   ]
  },
  {
   "cell_type": "markdown",
   "id": "c7e905be-520f-4c01-9b0f-246350673ace",
   "metadata": {},
   "source": [
    "### Exercise 4: Transpose of a Complex Vector\n",
    "Find the transpose of the complex vector \n",
    "$$ v = \\begin{bmatrix} 2 - i \\\\ 3 + 4i \\end{bmatrix} $$.\n"
   ]
  },
  {
   "cell_type": "code",
   "execution_count": 10,
   "id": "2f6d379e-bb3c-4e3e-a4c4-fb7108a3629d",
   "metadata": {},
   "outputs": [
    {
     "name": "stdout",
     "output_type": "stream",
     "text": [
      "[[2.-1.j 3.+4.j]]\n"
     ]
    }
   ],
   "source": [
    "import numpy as np\n",
    "v1 = np.array([[2-1j], [3+4j]])\n",
    "transpose_v1 = v1.T\n",
    "print(transpose_v1)"
   ]
  },
  {
   "cell_type": "markdown",
   "id": "8273463f-11d6-419b-8046-d32b7a3e0243",
   "metadata": {},
   "source": [
    "### Exercise 5: Conjugate of a Complex Vector\n",
    "Compute the conjugate of the complex vector \n",
    "$$ v = \\begin{bmatrix} 1 + i \\\\ 2 - 3i \\end{bmatrix} $$."
   ]
  },
  {
   "cell_type": "code",
   "execution_count": 11,
   "id": "36788871-09a4-442e-99c6-2012c42a4542",
   "metadata": {},
   "outputs": [
    {
     "name": "stdout",
     "output_type": "stream",
     "text": [
      "[[1.-1.j]\n",
      " [2.+3.j]]\n"
     ]
    }
   ],
   "source": [
    "import numpy as np\n",
    "v1 = np.array([[1+1j], [2-3j]])\n",
    "conjugate_v1 = np.conjugate(v1)\n",
    "print(conjugate_v1)"
   ]
  },
  {
   "cell_type": "markdown",
   "id": "741522ee-6d04-413d-9747-399aa554d046",
   "metadata": {},
   "source": [
    "### Exercise 6: Adjunct (Conjugate Transpose) of a Complex Vector\n",
    "Find the adjunct (or conjugate transpose) of the complex vector \n",
    "$$ v = \\begin{bmatrix} 1 - 2i \\\\ 3 + i \\end{bmatrix} $$."
   ]
  },
  {
   "cell_type": "code",
   "execution_count": 12,
   "id": "373f05d5-3176-430e-958d-28e7568d6eae",
   "metadata": {},
   "outputs": [
    {
     "name": "stdout",
     "output_type": "stream",
     "text": [
      "[[1.+2.j 3.-1.j]]\n"
     ]
    }
   ],
   "source": [
    "import numpy as np\n",
    "v1 = np.array([[1-2j], [3+1j]])\n",
    "adjunct_v1 = v1.T.conj()\n",
    "print(adjunct_v1)"
   ]
  },
  {
   "cell_type": "markdown",
   "id": "90e204a8-ab5e-490f-b86d-9c6af2aa39c1",
   "metadata": {},
   "source": [
    "\n",
    "### Exercise 7: Sum of Two Complex Matrices\n",
    "Given two complex matrices \n",
    "$$ m1 = \\begin{bmatrix} 1 + i & 2 - i \\\\ 3 + 2i & 4 \\end{bmatrix} $$ \n",
    "and \n",
    "$$ m2 = \\begin{bmatrix} 2 - 3i & 1 \\\\ i & 2 + 2i \\end{bmatrix} $$, \n",
    "calculate their sum."
   ]
  },
  {
   "cell_type": "code",
   "execution_count": 16,
   "id": "42b0dde2-4107-4c69-a6ed-6bda757b714f",
   "metadata": {},
   "outputs": [
    {
     "name": "stdout",
     "output_type": "stream",
     "text": [
      "[[3.-2.j 3.-1.j]\n",
      " [3.+3.j 6.+2.j]]\n"
     ]
    }
   ],
   "source": [
    "import numpy as np\n",
    "\n",
    "v1 = np.array([[2-3j, 1-0j], [0+1j,2+2j]])\n",
    "v2 = np.array([[1+1j, 2-1j], [3+2j,4+0j]])\n",
    "sum_v = v1 + v2\n",
    "print(sum_v)"
   ]
  },
  {
   "cell_type": "markdown",
   "id": "4fe382f6-56ba-4605-a979-65af458e44b7",
   "metadata": {},
   "source": [
    "### Exercise 8: Negation of a Complex Matrix\n",
    "Find the negation of the complex matrix \n",
    "$$ m = \\begin{bmatrix} 2 + i & 3 \\\\ 1 - i & 2 + 2i \\end{bmatrix} $$.\n"
   ]
  },
  {
   "cell_type": "code",
   "execution_count": 17,
   "id": "9a28118b-db3c-466c-8874-e8a0291eb8e5",
   "metadata": {},
   "outputs": [
    {
     "name": "stdout",
     "output_type": "stream",
     "text": [
      "[[-2.-1.j -3.-0.j]\n",
      " [-1.+1.j -2.-2.j]]\n"
     ]
    }
   ],
   "source": [
    "import numpy as np\n",
    "\n",
    "v1 = np.array([[2+1j, 3-0j], [1-1j,2+2j]])\n",
    "neg_v = -v1\n",
    "print(neg_v)"
   ]
  },
  {
   "cell_type": "markdown",
   "id": "c99cb60d-f920-492b-a283-fe1bb0027907",
   "metadata": {},
   "source": [
    "### Exercise 9: Multiplication of a Complex Matrix by a Scalar\n",
    "Multiply the complex matrix \n",
    "$$ m = \\begin{bmatrix} 1 - i & 2 \\\\ 3 + i & 4 - 2i \\end{bmatrix} $$ \n",
    "by the complex scalar $$ 2 + 3i $$."
   ]
  },
  {
   "cell_type": "code",
   "execution_count": 18,
   "id": "8d0c0cd7-f90d-4852-8a04-dbc36e06431b",
   "metadata": {},
   "outputs": [
    {
     "name": "stdout",
     "output_type": "stream",
     "text": [
      "[[ 5. +1.j  4. +6.j]\n",
      " [ 3.+11.j 14. +8.j]]\n"
     ]
    }
   ],
   "source": [
    "import numpy as np\n",
    "v1 = np.array([[1-1j, 2-0j], [3+1j,4-2j]])\n",
    "scalar = 2 + 3j\n",
    "mult_v1 = v1 * scalar\n",
    "print(mult_v1)"
   ]
  },
  {
   "cell_type": "markdown",
   "id": "734f667a-46c0-465a-a5c0-a789d9465240",
   "metadata": {},
   "source": [
    "### Exercise 10: Conjugate of a Complex Matrix\n",
    "Compute the conjugate of the complex matrix \n",
    "$$ m = \\begin{bmatrix} 1 + i & 2 \\\\ 3 - i & 4 + 2i \\end{bmatrix} $$."
   ]
  },
  {
   "cell_type": "code",
   "execution_count": 20,
   "id": "ee1e0647-94b2-4c02-bda0-c9c01b66e71f",
   "metadata": {},
   "outputs": [
    {
     "name": "stdout",
     "output_type": "stream",
     "text": [
      "[[1.-1.j 2.-0.j]\n",
      " [3.+1.j 4.-2.j]]\n"
     ]
    }
   ],
   "source": [
    "import numpy as np\n",
    "v1 = np.array([[1+1j, 2-0j], [3-1j,4+2j]])\n",
    "conjugate_v1 = np.conjugate(v1)\n",
    "print(conjugate_v1)"
   ]
  },
  {
   "cell_type": "markdown",
   "id": "5536b54b-5cc5-49ac-bef4-0d7e65c68dde",
   "metadata": {},
   "source": [
    "### Exercise 11: Transpose of a Complex Matrix\n",
    "Find the transpose of the complex matrix \n",
    "$$ m = \\begin{bmatrix} 1 - i & 2 + 2i \\\\ 3 & 4 - i \\end{bmatrix} $$."
   ]
  },
  {
   "cell_type": "code",
   "execution_count": 22,
   "id": "1683cff6-6257-4ea5-82d9-a37cac6328a8",
   "metadata": {},
   "outputs": [
    {
     "name": "stdout",
     "output_type": "stream",
     "text": [
      "[[1.-1.j 3.+0.j]\n",
      " [2.+2.j 4.-1.j]]\n"
     ]
    }
   ],
   "source": [
    "import numpy as np\n",
    "v1 = np.array([[1-1j, 2+2j], [3-0j,4-1j]])\n",
    "transpose_v1 = v1.T\n",
    "print(transpose_v1)"
   ]
  },
  {
   "cell_type": "markdown",
   "id": "802b9b0e-8953-4f3f-a93b-7b84b3634093",
   "metadata": {},
   "source": [
    "### Exercise 12: Adjunct (Conjugate Transpose) of a Complex Matrix\n",
    "Calculate the adjunct (or conjugate transpose) of the complex matrix \n",
    "$$ m = \\begin{bmatrix} 1 + 2i & 3 - i \\\\ 4 & 5 + i \\end{bmatrix} $$."
   ]
  },
  {
   "cell_type": "code",
   "execution_count": 23,
   "id": "817856d1-0525-4133-807c-223f348ea091",
   "metadata": {},
   "outputs": [
    {
     "name": "stdout",
     "output_type": "stream",
     "text": [
      "[[1.-2.j 4.-0.j]\n",
      " [3.+1.j 5.-1.j]]\n"
     ]
    }
   ],
   "source": [
    "import numpy as np\n",
    "v1 = np.array([[1+2j, 3-1j], [4-0j,5+1j]])\n",
    "adjunct_v1 = v1.T.conj()\n",
    "print(adjunct_v1)"
   ]
  },
  {
   "cell_type": "markdown",
   "id": "94280d59-399d-4f9a-85b6-fb126f21d712",
   "metadata": {},
   "source": [
    "### Exercise 13: Checking the Dimensions of a Matrix\n",
    "Determine the dimensions of the complex matrix \n",
    "$$ m = \\begin{bmatrix} 1 - i & 2 \\\\ 3 + 2i & 4 - i \\end{bmatrix} $$."
   ]
  },
  {
   "cell_type": "code",
   "execution_count": 26,
   "id": "46d496b8-64fc-4ba3-a9a1-9a5d63c1288c",
   "metadata": {},
   "outputs": [
    {
     "name": "stdout",
     "output_type": "stream",
     "text": [
      "2 x 2\n"
     ]
    }
   ],
   "source": [
    "import numpy as np\n",
    "v1 = np.array([[1-1j, 2+0j], [3+2j,4-1j]])\n",
    "print(len(v1),\"x\",len(v1[0]))"
   ]
  },
  {
   "cell_type": "markdown",
   "id": "a9c8dc0c-21ac-4183-8782-d4b7bf75a5f6",
   "metadata": {},
   "source": [
    "### Exercise 14: Multiplying a Complex Square Matrix by a Complex Column Vector\n",
    "Multiply the complex square matrix \n",
    "$$ m = \\begin{bmatrix} 1 + i & 2 - i \\\\ 3 & 4 + i \\end{bmatrix} $$ \n",
    "by the complex column vector \n",
    "$$ v = \\begin{bmatrix} 2 - i \\\\ 1 + 3i \\end{bmatrix} $$."
   ]
  },
  {
   "cell_type": "code",
   "execution_count": 28,
   "id": "4a7e8646-d9bd-425b-b92b-f817854aeb0a",
   "metadata": {},
   "outputs": [
    {
     "name": "stdout",
     "output_type": "stream",
     "text": [
      "[8. +6.j 7.+10.j]\n"
     ]
    }
   ],
   "source": [
    "\n",
    "import numpy as np\n",
    "m1 = np.array([[1+1j, 2-1j], [3+0j,4+1j]])\n",
    "v1 = np.array([2-1j, 1+3j])\n",
    "result = np.dot(m1, v1)\n",
    "print(result)"
   ]
  }
 ],
 "metadata": {
  "kernelspec": {
   "display_name": "Python 3 (ipykernel)",
   "language": "python",
   "name": "python3"
  },
  "language_info": {
   "codemirror_mode": {
    "name": "ipython",
    "version": 3
   },
   "file_extension": ".py",
   "mimetype": "text/x-python",
   "name": "python",
   "nbconvert_exporter": "python",
   "pygments_lexer": "ipython3",
   "version": "3.11.1"
  }
 },
 "nbformat": 4,
 "nbformat_minor": 5
}
